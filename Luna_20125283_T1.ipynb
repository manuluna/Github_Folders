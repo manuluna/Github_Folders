{
 "cells": [
  {
   "cell_type": "markdown",
   "metadata": {},
   "source": [
    "# Tarea 1\n",
    "\n"
   ]
  },
  {
   "cell_type": "markdown",
   "metadata": {},
   "source": [
    "1. Comprueba que un subguión `_` para separar miles puede ser usado en vez de comas al escribir números grandes. El resultado aún es un número. Puedes escribir un millón, o mil millones, (o algún otro ejemplo)."
   ]
  },
  {
   "cell_type": "code",
   "execution_count": 248,
   "metadata": {},
   "outputs": [
    {
     "name": "stdout",
     "output_type": "stream",
     "text": [
      "100000000\n"
     ]
    }
   ],
   "source": [
    "num=100_000_000\n",
    "print(num)"
   ]
  },
  {
   "cell_type": "markdown",
   "metadata": {},
   "source": [
    "2. Calcula cuántas horas trabajan en total los 130 congresistas de nuestro país en un año. Asume que trabajan 40 horas a la semana, por 48 semanas al año (considerando que tienen vacaciones y no trabajan sobretiempo). "
   ]
  },
  {
   "cell_type": "code",
   "execution_count": 78,
   "metadata": {},
   "outputs": [
    {
     "name": "stdout",
     "output_type": "stream",
     "text": [
      "El número de horas total de trabajo de los 130 congresistas es 249600 horas.\n"
     ]
    }
   ],
   "source": [
    "congresistas= 130\n",
    "semana_horas= 40 \n",
    "semanas_anual=48\n",
    "\n",
    "total_W_congresistas=(semana_horas*semanas_anual)*congresistas\n",
    "print(\"El número de horas total de trabajo de los 130 congresistas es\", (total_W_congresistas), \"horas.\")"
   ]
  },
  {
   "cell_type": "markdown",
   "metadata": {},
   "source": [
    "3. Ahora calcula el salario de un congresista por hora. Los supuestos del anterior ejercicio se mantienen (Se puede pasar por alto las vacaciones). Cabe recordar que los congresistas ganan 15,600 soles mensuales.   \n",
    "- Crea una variable para el salario por hora de un congresista.   \n",
    "- Crea una variable para la suma de los salarios por hora de los 130 congresistas.\n"
   ]
  },
  {
   "cell_type": "code",
   "execution_count": 18,
   "metadata": {},
   "outputs": [
    {
     "name": "stdout",
     "output_type": "stream",
     "text": [
      "520.0\n"
     ]
    }
   ],
   "source": [
    "salario_mensual=15600\n",
    "días=30\n",
    "salario_día= salario_mensual/días\n",
    "print(salario_día)"
   ]
  },
  {
   "cell_type": "code",
   "execution_count": 19,
   "metadata": {},
   "outputs": [
    {
     "name": "stdout",
     "output_type": "stream",
     "text": [
      "El salario de un congresista por hora es 65.0 soles.\n"
     ]
    }
   ],
   "source": [
    "salario_día=520\n",
    "horas_W_diarias= 8\n",
    "salario_hora= salario_día/horas_W_diarias       ## Variable para salario por hora de un congresista \n",
    "print(\"El salario de un congresista por hora es\", (salario_hora), \"soles.\")"
   ]
  },
  {
   "cell_type": "code",
   "execution_count": 20,
   "metadata": {},
   "outputs": [
    {
     "name": "stdout",
     "output_type": "stream",
     "text": [
      "La suma de los salarios por hora de los 130 congresistas es 8450 soles.\n"
     ]
    }
   ],
   "source": [
    "congresistas=130\n",
    "salario_hora=65\n",
    "suma_salarios_hora= salario_hora*congresistas ## variable suma de los salarios por hora de 130 congresistas\n",
    "print(\"La suma de los salarios por hora de los 130 congresistas es\", (suma_salarios_hora),\"soles.\")\n"
   ]
  },
  {
   "cell_type": "markdown",
   "metadata": {},
   "source": [
    "4. Benito se acaba de comprar una computadora Asus a 2,579 soles. Es el precio después del IGV, sin embargo, él quisiera saber cuántos soles está pagando de IGV. Calcule el monto (el IGV es 18% sobre el valor base). Cree una variable para el porcentaje de IGV, el precio del celular con impuesto, el monto del impuesto y el precio de la computadora sin impuesto."
   ]
  },
  {
   "cell_type": "code",
   "execution_count": 15,
   "metadata": {},
   "outputs": [
    {
     "name": "stdout",
     "output_type": "stream",
     "text": [
      "2185.593220338983\n"
     ]
    }
   ],
   "source": [
    "precioAsus_conIGV=2579\n",
    "IGV=0.18\n",
    "precioAsus_sinIGV= precioAsus_conIGV/1.18\n",
    "print(precioAsus_sinIGV)"
   ]
  },
  {
   "cell_type": "code",
   "execution_count": 82,
   "metadata": {},
   "outputs": [
    {
     "name": "stdout",
     "output_type": "stream",
     "text": [
      "El monto del impuesto es 393.406779661017 soles.\n"
     ]
    }
   ],
   "source": [
    "monto_impuesto = precioAsus_conIGV - precioAsus_sinIGV\n",
    "print(\"El monto del impuesto es\", (precioAsus_conIGV - precioAsus_sinIGV), \"soles.\")"
   ]
  },
  {
   "cell_type": "markdown",
   "metadata": {},
   "source": [
    "5.  Cristina percibe el sueldo mínimo (931 soles). Compruebe que el salario anual de Cristina es menor al salario anual de un congresista, usando operadores de comparación y una expresión que detalle el monto mensual y el número de meses trabajados de ambos."
   ]
  },
  {
   "cell_type": "code",
   "execution_count": 21,
   "metadata": {},
   "outputs": [
    {
     "name": "stdout",
     "output_type": "stream",
     "text": [
      "10241\n"
     ]
    }
   ],
   "source": [
    "salario_Cristina_mínimo= 931       ## salaria anual Cristina será salario_1\n",
    "meses_trabajados=11\n",
    "salario_1=salario_Cristina_mínimo * meses_trabajados\n",
    "print(salario_1)"
   ]
  },
  {
   "cell_type": "code",
   "execution_count": 83,
   "metadata": {},
   "outputs": [
    {
     "name": "stdout",
     "output_type": "stream",
     "text": [
      "171600\n"
     ]
    }
   ],
   "source": [
    "salario_congresista= 15600       ## salario anual congresista será salario_2\n",
    "meses_trabajados=11\n",
    "salario_2=salario_congresista* meses_trabajados\n",
    "print(salario_2)"
   ]
  },
  {
   "cell_type": "code",
   "execution_count": 14,
   "metadata": {},
   "outputs": [
    {
     "data": {
      "text/plain": [
       "True"
      ]
     },
     "execution_count": 14,
     "metadata": {},
     "output_type": "execute_result"
    }
   ],
   "source": [
    "salario_1=10241\n",
    "salario_2=171600          \n",
    "(salario_1 < salario_2)"
   ]
  },
  {
   "cell_type": "markdown",
   "metadata": {},
   "source": [
    "6. Una comunidad de 5309 familias tiene que ser compensada monetariamente por una compañía transnacional. El monto negociado es de 100 millones de soles, sin embargo, una cláusula del contrato dice que el monto de compensación tiene que ser un número entero. ¿Cuántos soles adicionales se le  tiene  que agregar al monto negociado para que las familias reciban una cantidad entera? (Pista: Acuérdate del  floor y el módulo)."
   ]
  },
  {
   "cell_type": "code",
   "execution_count": 80,
   "metadata": {},
   "outputs": [
    {
     "name": "stdout",
     "output_type": "stream",
     "text": [
      "18835\n"
     ]
    }
   ],
   "source": [
    "comunidad_familias= 5309\n",
    "commpensación_transnacional= 100_000_000\n",
    "monto_compensación_familias= commpensación_transnacional//comunidad_familias\n",
    "print(monto_compensación_familias)\n"
   ]
  },
  {
   "cell_type": "code",
   "execution_count": 95,
   "metadata": {},
   "outputs": [
    {
     "name": "stdout",
     "output_type": "stream",
     "text": [
      "Al monto de compensación negociado de 18835 soles se le tiene que agregar 4985 soles.\n"
     ]
    }
   ],
   "source": [
    "add_compensación= 100_000_000 % 5309\n",
    "print(\"Al monto de compensación negociado de\",monto_compensación_familias, \"soles se le tiene que agregar\", add_compensación, \"soles.\")"
   ]
  },
  {
   "cell_type": "markdown",
   "metadata": {},
   "source": [
    "7. Tenemos la siguiente lista de cursos: "
   ]
  },
  {
   "cell_type": "code",
   "execution_count": 169,
   "metadata": {},
   "outputs": [],
   "source": [
    "cursos = [\"Historia\", \"Economia\", \"Antropologia\", \"RSP\", \"Derecho\"]"
   ]
  },
  {
   "cell_type": "markdown",
   "metadata": {},
   "source": [
    "Realiza las siguientes operaciones en bloques diferentes: \n",
    "- Calcula cuántos elementos tiene la lista.\n"
   ]
  },
  {
   "cell_type": "code",
   "execution_count": 170,
   "metadata": {},
   "outputs": [
    {
     "name": "stdout",
     "output_type": "stream",
     "text": [
      "5\n"
     ]
    }
   ],
   "source": [
    "cursos = [\"Historia\", \"Economia\", \"Antropologia\", \"RSP\", \"Derecho\"]\n",
    "print(len(cursos))"
   ]
  },
  {
   "cell_type": "markdown",
   "metadata": {},
   "source": [
    "8.\n",
    "- Agrega tres cursos adicionales de 3 formas diferentes (uno por forma):\n",
    "   - Suma (+) una lista que contenga un curso adicional. \n",
    "   - Usa el append. \n",
    "   - Usa el extend. \n"
   ]
  },
  {
   "cell_type": "code",
   "execution_count": 174,
   "metadata": {},
   "outputs": [
    {
     "data": {
      "text/plain": [
       "['Historia', 'Economia', 'Arte', 'Antropologia', 'RSP', 'Derecho']"
      ]
     },
     "execution_count": 174,
     "metadata": {},
     "output_type": "execute_result"
    }
   ],
   "source": [
    "cursos = [\"Historia\", \"Economia\", \"Antropologia\", \"RSP\", \"Derecho\"]\n",
    "cursos.insert(2,\"Arte\")\n",
    "cursos"
   ]
  },
  {
   "cell_type": "code",
   "execution_count": 164,
   "metadata": {},
   "outputs": [
    {
     "data": {
      "text/plain": [
       "['Historia', 'Economia', 'Antropologia', 'RSP', 'Derecho', 'Biología']"
      ]
     },
     "execution_count": 164,
     "metadata": {},
     "output_type": "execute_result"
    }
   ],
   "source": [
    "cursos= [\"Historia\", \"Economia\", \"Antropologia\", \"RSP\", \"Derecho\"]\n",
    "cursos.insert(5,\"Biología\")\n",
    "cursos"
   ]
  },
  {
   "cell_type": "code",
   "execution_count": 165,
   "metadata": {},
   "outputs": [
    {
     "data": {
      "text/plain": [
       "['Química', 'Historia', 'Economia', 'Antropologia', 'RSP', 'Derecho']"
      ]
     },
     "execution_count": 165,
     "metadata": {},
     "output_type": "execute_result"
    }
   ],
   "source": [
    "cursos= [\"Historia\", \"Economia\", \"Antropologia\", \"RSP\", \"Derecho\"]\n",
    "cursos.insert(0,\"Química\")\n",
    "cursos"
   ]
  },
  {
   "cell_type": "code",
   "execution_count": 193,
   "metadata": {},
   "outputs": [
    {
     "data": {
      "text/plain": [
       "['Historia', 'Economia', ['Arte'], 'Antropologia', 'RSP', 'Derecho']"
      ]
     },
     "execution_count": 193,
     "metadata": {},
     "output_type": "execute_result"
    }
   ],
   "source": [
    "cursos= [\"Historia\", \"Economia\", \"Antropologia\", \"RSP\", \"Derecho\"] # suma de una lista adicional\n",
    "cursos.insert(2,[\"Arte\"])\n",
    "cursos"
   ]
  },
  {
   "cell_type": "code",
   "execution_count": 209,
   "metadata": {},
   "outputs": [
    {
     "data": {
      "text/plain": [
       "['Historia', 'Economia', 'Antropologia', 'RSP', 'Derecho', 'Arte']"
      ]
     },
     "execution_count": 209,
     "metadata": {},
     "output_type": "execute_result"
    }
   ],
   "source": [
    "cursos= [\"Historia\", \"Economia\", \"Antropologia\", \"RSP\", \"Derecho\"]  ## uso del append\n",
    "cursos.append(\"Arte\")\n",
    "cursos"
   ]
  },
  {
   "cell_type": "code",
   "execution_count": 35,
   "metadata": {},
   "outputs": [
    {
     "data": {
      "text/plain": [
       "['Historia',\n",
       " 'Economia',\n",
       " 'Antropologia',\n",
       " 'RSP',\n",
       " 'Derecho',\n",
       " 'Arte',\n",
       " 'Biología',\n",
       " 'Química']"
      ]
     },
     "execution_count": 35,
     "metadata": {},
     "output_type": "execute_result"
    }
   ],
   "source": [
    "cursos= [\"Historia\", \"Economia\", \"Antropologia\", \"RSP\", \"Derecho\"] ## uso del extend\n",
    "cursos.extend([\"Arte\", \"Biología\",\"Química\"])\n",
    "cursos"
   ]
  },
  {
   "cell_type": "markdown",
   "metadata": {},
   "source": [
    "9.\n",
    "- Usa la indexación para señalar a _RSP_.\n"
   ]
  },
  {
   "cell_type": "code",
   "execution_count": 176,
   "metadata": {},
   "outputs": [
    {
     "data": {
      "text/plain": [
       "'RSP'"
      ]
     },
     "execution_count": 176,
     "metadata": {},
     "output_type": "execute_result"
    }
   ],
   "source": [
    "cursos = [\"Historia\", \"Economia\", \"Antropologia\", \"RSP\", \"Derecho\"]\n",
    "cursos[3]"
   ]
  },
  {
   "cell_type": "markdown",
   "metadata": {},
   "source": [
    "10.\n",
    "- Remueve el curso que menos te guste de la lista.\n"
   ]
  },
  {
   "cell_type": "code",
   "execution_count": 212,
   "metadata": {},
   "outputs": [
    {
     "data": {
      "text/plain": [
       "['Historia', 'Economia', 'Antropologia', 'RSP']"
      ]
     },
     "execution_count": 212,
     "metadata": {},
     "output_type": "execute_result"
    }
   ],
   "source": [
    "cursos = [\"Historia\", \"Economia\", \"Antropologia\", \"RSP\", \"Derecho\"]\n",
    "cursos.pop(4)\n",
    "cursos"
   ]
  },
  {
   "cell_type": "markdown",
   "metadata": {},
   "source": [
    "11.\n",
    "  - Invierte la lista."
   ]
  },
  {
   "cell_type": "code",
   "execution_count": 216,
   "metadata": {},
   "outputs": [
    {
     "data": {
      "text/plain": [
       "['Derecho', 'RSP', 'Antropologia', 'Economia', 'Historia']"
      ]
     },
     "execution_count": 216,
     "metadata": {},
     "output_type": "execute_result"
    }
   ],
   "source": [
    "cursos = [\"Historia\", \"Economia\", \"Antropologia\", \"RSP\", \"Derecho\"]\n",
    "cursos.reverse()\n",
    "cursos"
   ]
  },
  {
   "cell_type": "markdown",
   "metadata": {},
   "source": [
    "12. Tenemos los siguientes números: 30, 24, 54.2, 15.8, 145, 90, 100.\n",
    " - Crea una lista con ellos. \n",
    " - Ordena la lista de menor a mayor.\n",
    " - Cuenta cuántos números mayores a 30 hay.\n",
    " - Saca el promedio de los números de la lista.  \n",
    "(Realiza cada uno en bloques separados)."
   ]
  },
  {
   "cell_type": "code",
   "execution_count": 400,
   "metadata": {},
   "outputs": [
    {
     "name": "stdout",
     "output_type": "stream",
     "text": [
      "[30, 24, 54.2, 15.8, 145, 90, 100]\n"
     ]
    }
   ],
   "source": [
    "lista= [30, 24, 54.2, 15.8, 145, 90, 100] # lista\n",
    "print(lista)\n"
   ]
  },
  {
   "cell_type": "code",
   "execution_count": 219,
   "metadata": {},
   "outputs": [
    {
     "data": {
      "text/plain": [
       "[15.8, 24, 30, 54.2, 90, 100, 145]"
      ]
     },
     "execution_count": 219,
     "metadata": {},
     "output_type": "execute_result"
    }
   ],
   "source": [
    "lista.sort() #lista de menor a mayor\n",
    "lista"
   ]
  },
  {
   "cell_type": "code",
   "execution_count": 77,
   "metadata": {
    "scrolled": true
   },
   "outputs": [
    {
     "name": "stdout",
     "output_type": "stream",
     "text": [
      "54.2\n",
      "145\n",
      "90\n",
      "100\n"
     ]
    }
   ],
   "source": [
    "lista=[30, 24, 54.2, 15.8, 145, 90, 100] \n",
    "\n",
    "for num in lista:\n",
    "    if num > 30:\n",
    "        print(num) ##números mayores a 30\n",
    "\n"
   ]
  },
  {
   "cell_type": "code",
   "execution_count": 159,
   "metadata": {},
   "outputs": [
    {
     "data": {
      "text/plain": [
       "459.0"
      ]
     },
     "execution_count": 159,
     "metadata": {},
     "output_type": "execute_result"
    }
   ],
   "source": [
    "sum(lista)\n"
   ]
  },
  {
   "cell_type": "code",
   "execution_count": 111,
   "metadata": {},
   "outputs": [
    {
     "data": {
      "text/plain": [
       "7"
      ]
     },
     "execution_count": 111,
     "metadata": {},
     "output_type": "execute_result"
    }
   ],
   "source": [
    "len(lista)"
   ]
  },
  {
   "cell_type": "code",
   "execution_count": 112,
   "metadata": {},
   "outputs": [
    {
     "data": {
      "text/plain": [
       "65.57142857142857"
      ]
     },
     "execution_count": 112,
     "metadata": {},
     "output_type": "execute_result"
    }
   ],
   "source": [
    "sum(lista)/len(lista) #promedio de la lista"
   ]
  }
 ],
 "metadata": {
  "kernelspec": {
   "display_name": "Python 3",
   "language": "python",
   "name": "python3"
  },
  "language_info": {
   "codemirror_mode": {
    "name": "ipython",
    "version": 3
   },
   "file_extension": ".py",
   "mimetype": "text/x-python",
   "name": "python",
   "nbconvert_exporter": "python",
   "pygments_lexer": "ipython3",
   "version": "3.8.5"
  }
 },
 "nbformat": 4,
 "nbformat_minor": 4
}
